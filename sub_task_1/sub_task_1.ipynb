{
  "nbformat": 4,
  "nbformat_minor": 0,
  "metadata": {
    "colab": {
      "name": "keyword.ipynb",
      "provenance": [],
      "collapsed_sections": []
    },
    "kernelspec": {
      "name": "python3",
      "display_name": "Python 3"
    }
  },
  "cells": [
    {
      "cell_type": "code",
      "metadata": {
        "id": "8fX6ERokFFoI",
        "colab_type": "code",
        "outputId": "78236d18-9ad2-4d0a-8ab2-b19048f5bab3",
        "colab": {
          "base_uri": "https://localhost:8080/",
          "height": 887
        }
      },
      "source": [
        "pip install newspaper3k\n"
      ],
      "execution_count": 0,
      "outputs": [
        {
          "output_type": "stream",
          "text": [
            "Collecting newspaper3k\n",
            "\u001b[?25l  Downloading https://files.pythonhosted.org/packages/d7/b9/51afecb35bb61b188a4b44868001de348a0e8134b4dfa00ffc191567c4b9/newspaper3k-0.2.8-py3-none-any.whl (211kB)\n",
            "\u001b[K     |████████████████████████████████| 215kB 2.8MB/s \n",
            "\u001b[?25hRequirement already satisfied: beautifulsoup4>=4.4.1 in /usr/local/lib/python3.6/dist-packages (from newspaper3k) (4.6.3)\n",
            "Requirement already satisfied: PyYAML>=3.11 in /usr/local/lib/python3.6/dist-packages (from newspaper3k) (3.13)\n",
            "Requirement already satisfied: lxml>=3.6.0 in /usr/local/lib/python3.6/dist-packages (from newspaper3k) (4.2.6)\n",
            "Requirement already satisfied: requests>=2.10.0 in /usr/local/lib/python3.6/dist-packages (from newspaper3k) (2.21.0)\n",
            "Collecting tldextract>=2.0.1 (from newspaper3k)\n",
            "\u001b[?25l  Downloading https://files.pythonhosted.org/packages/1e/90/18ac0e5340b6228c25cc8e79835c3811e7553b2b9ae87296dfeb62b7866d/tldextract-2.2.1-py2.py3-none-any.whl (48kB)\n",
            "\u001b[K     |████████████████████████████████| 51kB 17.8MB/s \n",
            "\u001b[?25hCollecting cssselect>=0.9.2 (from newspaper3k)\n",
            "  Downloading https://files.pythonhosted.org/packages/3b/d4/3b5c17f00cce85b9a1e6f91096e1cc8e8ede2e1be8e96b87ce1ed09e92c5/cssselect-1.1.0-py2.py3-none-any.whl\n",
            "Requirement already satisfied: python-dateutil>=2.5.3 in /usr/local/lib/python3.6/dist-packages (from newspaper3k) (2.5.3)\n",
            "Collecting tinysegmenter==0.3 (from newspaper3k)\n",
            "  Downloading https://files.pythonhosted.org/packages/17/82/86982e4b6d16e4febc79c2a1d68ee3b707e8a020c5d2bc4af8052d0f136a/tinysegmenter-0.3.tar.gz\n",
            "Collecting jieba3k>=0.35.1 (from newspaper3k)\n",
            "\u001b[?25l  Downloading https://files.pythonhosted.org/packages/a9/cb/2c8332bcdc14d33b0bedd18ae0a4981a069c3513e445120da3c3f23a8aaa/jieba3k-0.35.1.zip (7.4MB)\n",
            "\u001b[K     |████████████████████████████████| 7.4MB 26.5MB/s \n",
            "\u001b[?25hRequirement already satisfied: nltk>=3.2.1 in /usr/local/lib/python3.6/dist-packages (from newspaper3k) (3.2.5)\n",
            "Collecting feedparser>=5.2.1 (from newspaper3k)\n",
            "\u001b[?25l  Downloading https://files.pythonhosted.org/packages/91/d8/7d37fec71ff7c9dbcdd80d2b48bcdd86d6af502156fc93846fb0102cb2c4/feedparser-5.2.1.tar.bz2 (192kB)\n",
            "\u001b[K     |████████████████████████████████| 194kB 45.0MB/s \n",
            "\u001b[?25hRequirement already satisfied: Pillow>=3.3.0 in /usr/local/lib/python3.6/dist-packages (from newspaper3k) (4.3.0)\n",
            "Collecting feedfinder2>=0.0.4 (from newspaper3k)\n",
            "  Downloading https://files.pythonhosted.org/packages/35/82/1251fefec3bb4b03fd966c7e7f7a41c9fc2bb00d823a34c13f847fd61406/feedfinder2-0.0.4.tar.gz\n",
            "Requirement already satisfied: idna<2.9,>=2.5 in /usr/local/lib/python3.6/dist-packages (from requests>=2.10.0->newspaper3k) (2.8)\n",
            "Requirement already satisfied: certifi>=2017.4.17 in /usr/local/lib/python3.6/dist-packages (from requests>=2.10.0->newspaper3k) (2019.9.11)\n",
            "Requirement already satisfied: urllib3<1.25,>=1.21.1 in /usr/local/lib/python3.6/dist-packages (from requests>=2.10.0->newspaper3k) (1.24.3)\n",
            "Requirement already satisfied: chardet<3.1.0,>=3.0.2 in /usr/local/lib/python3.6/dist-packages (from requests>=2.10.0->newspaper3k) (3.0.4)\n",
            "Requirement already satisfied: setuptools in /usr/local/lib/python3.6/dist-packages (from tldextract>=2.0.1->newspaper3k) (41.2.0)\n",
            "Collecting requests-file>=1.4 (from tldextract>=2.0.1->newspaper3k)\n",
            "  Downloading https://files.pythonhosted.org/packages/23/9c/6e63c23c39e53d3df41c77a3d05a49a42c4e1383a6d2a5e3233161b89dbf/requests_file-1.4.3-py2.py3-none-any.whl\n",
            "Requirement already satisfied: six>=1.5 in /usr/local/lib/python3.6/dist-packages (from python-dateutil>=2.5.3->newspaper3k) (1.12.0)\n",
            "Requirement already satisfied: olefile in /usr/local/lib/python3.6/dist-packages (from Pillow>=3.3.0->newspaper3k) (0.46)\n",
            "Building wheels for collected packages: tinysegmenter, jieba3k, feedparser, feedfinder2\n",
            "  Building wheel for tinysegmenter (setup.py) ... \u001b[?25l\u001b[?25hdone\n",
            "  Created wheel for tinysegmenter: filename=tinysegmenter-0.3-cp36-none-any.whl size=13538 sha256=34db654e3e93bc07d4344fe4b2badf167e61df6ef70aff0fd9916279bffe9d4e\n",
            "  Stored in directory: /root/.cache/pip/wheels/81/2b/43/a02ede72324dd40cdd7ca53aad718c7710628e91b8b0dc0f02\n",
            "  Building wheel for jieba3k (setup.py) ... \u001b[?25l\u001b[?25hdone\n",
            "  Created wheel for jieba3k: filename=jieba3k-0.35.1-cp36-none-any.whl size=7398407 sha256=ef2e4c896efa554a726bae37d0c8d15f09eb130683fce0e7ce4f3b9e21867be6\n",
            "  Stored in directory: /root/.cache/pip/wheels/83/15/9c/a3f1f67e7f7181170ad37d32e503c35da20627c013f438ed34\n",
            "  Building wheel for feedparser (setup.py) ... \u001b[?25l\u001b[?25hdone\n",
            "  Created wheel for feedparser: filename=feedparser-5.2.1-cp36-none-any.whl size=44940 sha256=eaee3192372ee15772eb026052b53eb0d4108aa2673d064a729e7768b3bef293\n",
            "  Stored in directory: /root/.cache/pip/wheels/8c/69/b7/f52763c41c5471df57703a0ef718a32a5e81ee35dcf6d4f97f\n",
            "  Building wheel for feedfinder2 (setup.py) ... \u001b[?25l\u001b[?25hdone\n",
            "  Created wheel for feedfinder2: filename=feedfinder2-0.0.4-cp36-none-any.whl size=3356 sha256=571e06fe6b354e45d130acb770786cfc142a45552fb24f4ee102fd308e35f723\n",
            "  Stored in directory: /root/.cache/pip/wheels/de/03/ca/778e3a7a627e3d98836cc890e7cb40c7575424cfd3340f40ed\n",
            "Successfully built tinysegmenter jieba3k feedparser feedfinder2\n",
            "Installing collected packages: requests-file, tldextract, cssselect, tinysegmenter, jieba3k, feedparser, feedfinder2, newspaper3k\n",
            "Successfully installed cssselect-1.1.0 feedfinder2-0.0.4 feedparser-5.2.1 jieba3k-0.35.1 newspaper3k-0.2.8 requests-file-1.4.3 tinysegmenter-0.3 tldextract-2.2.1\n"
          ],
          "name": "stdout"
        }
      ]
    },
    {
      "cell_type": "code",
      "metadata": {
        "id": "STDoz_EsTL8_",
        "colab_type": "code",
        "outputId": "abfe8687-c2a1-44fc-cbde-4e2fbbae9638",
        "colab": {
          "base_uri": "https://localhost:8080/",
          "height": 1000
        }
      },
      "source": [
        "from newspaper import Article \n",
        "import nltk\n",
        "nltk.download('punkt')\n",
        "\n",
        "#A new article from anywhere \n",
        "URL = \"https://lucid.blog/mercyinyang/post/flutterwave-africas-largest-online-payment-gateway-be0\"\n",
        "\n",
        "#For different language newspaper refer above table \n",
        "ARTICLE = Article(URL, language=\"en\") # en for English \n",
        "\n",
        "#To download the article \n",
        "ARTICLE.download() \n",
        "\n",
        "#To parse the article \n",
        "ARTICLE.parse() \n",
        "\n",
        "#To perform natural language processing ie..nlp \n",
        "ARTICLE.nlp() \n",
        "\n",
        "#To extract title \n",
        "print(\"Article's Title:\") \n",
        "print(ARTICLE.title) \n",
        "print(\"n\") \n",
        "\n",
        "#To extract text \n",
        "print(\"Article's Text:\") \n",
        "print(ARTICLE.text) \n",
        "print(\"n\") \n",
        "\n",
        "#To extract summary \n",
        "print(\"Article's Summary:\") \n",
        "print(ARTICLE.summary) \n",
        "print(\"n\") \n",
        "\n",
        "\n",
        "\n",
        "\n",
        "\n",
        "\n",
        "  \n"
      ],
      "execution_count": 0,
      "outputs": [
        {
          "output_type": "stream",
          "text": [
            "[nltk_data] Downloading package punkt to /root/nltk_data...\n",
            "[nltk_data]   Package punkt is already up-to-date!\n",
            "Article's Title:\n",
            "FLUTTERWAVE: AFRICA’S LARGEST ONLINE PAYMENT GATEWAY\n",
            "n\n",
            "Article's Text:\n",
            "Flutterwave is a payments API that makes it easier for banks and businesses to process payments across Africa. It is focused on helping banks and businesses provide seamless and secure payment experiences for their customers. The service allows consumers to pay for things in their local currency; Flutterwave takes care of integrating banks and payment-service providers into its platform so businesses don't have to take on the expense and burden.\n",
            "\n",
            "African businesses have a hard time accepting payments from visitors. It also makes it difficult for companies like Google, Netflix, Amazon, Facebook and other international companies to accept local payments from African customers. It hinders the ease with which Africans connect with some of tech's most beloved services. Flutterwave has made it easier for Africans to build global businesses that can make and accept any payment, anywhere from across Africa and around the world. You can accept payments, make payouts and manage your business funds from one integrated platform that helps you connect globally.\n",
            "\n",
            "Flutterwave was founded in 2016 by a team of ex-bankers, entrepreneurs and engineers. They provide the award-winning technology core needed to provide business all around the world a powerful, reliable and intelligent payments gateway.\n",
            "\n",
            "Till date, the company is processing more than $1.2 billion in payments across 10 million transactions. It accepts 350 currencies across 30 African countries, charging merchants a small service charge, which it shares with banks.\n",
            "\n",
            "With Flutterwave, you can easily;\n",
            "\n",
            "Go mobile securely and reach more users\n",
            "\n",
            "Provide payouts in your team’s local currency\n",
            "\n",
            "Connect vendors and customers on a reliable platform\n",
            "\n",
            "RAVE BY FLUTTERWAVE\n",
            "\n",
            "Rave is a completely integrated global payments platform that makes payment easier with secure and reliable tools. It supports over 150 different currencies and helps you increase sales by displaying prices and accepting payments in your customer’s preferred currency, improving their overall experience. With Rave, you avoid high conversion fees and can receive funds in your local currency. You can manage payouts for hundreds of people by just using a simple payment link. Rave opens your business to more opportunities by letting you accept a range of payment methods from customers around the world. It is the easiest way to make and accept payments from customers in any country.\n",
            "\n",
            "Rave gives you 24/7 customer service, reasonable fees and the technology to achieve zero failed transactions. Set up your business with speed, ease, and functionality, in order to provide your customer with the best possible checkout experience.\n",
            "\n",
            "WHY YOU SHOULD USE RAVE FOR YOUR BUSINESS.\n",
            "\n",
            "Rave accepts debit/credit payments from customers in 154+ countries. Visa, Mastercard, Verve and more are all supported. Rave opens your business to more opportunities by letting you accept a range of payment methods from customers around the world.\n",
            "\n",
            "Your customers in the US, South Africa, and Nigeria can pay you safely directly from their bank accounts or mobile wallet.\n",
            "\n",
            "Customers using M-Cash, M-Pesa, TIGO, MTN, and VODAFONE can all pay you directly from their mobile wallets.\n",
            "\n",
            "It is cost-effective. With no setup or monthly fees, you can start with right away and only pay for the transactions you accept. The end-to-end payment gateway means there no additional integration or operational costs.\n",
            "\n",
            "Manage multiple businesses and payout to as many individuals as you need from one simple place.\n",
            "\n",
            "24/7 support, fully managed and operated by Flutterwave.\n",
            "\n",
            "BARTER BY FLUTTERWAVE\n",
            "\n",
            "Barter is a virtual card that allows users in Africa to create virtual debit cards so they can pay bills and shop online in dollars while funding their cards in their local currency. Barter leverages on Flutterwave’s virtual card API and platform to allow users to create an unlimited number of virtual dollar cards for single or repeat transactions.\n",
            "\n",
            "Barter cards are customized with your name, billing address, and postal addresses. You can delete the virtual card whenever you want; and also create multiple cards and keep track of all of them. These virtual cards are supported by all banks and financial institutions in the US, Kenya, Ghana and Nigeria; and fund transfer is immediate.\n",
            "\n",
            "WHY YOU SHOULD USE BARTER APP\n",
            "\n",
            "Send money to friends near you easily.\n",
            "\n",
            "You can recharge your phones and pay your bills at the snap of a finger.\n",
            "\n",
            "Get detailed reports that show your spending patterns.\n",
            "\n",
            "You can manage payments and subscriptions.\n",
            "\n",
            "You can apply for repayable short-term loans\n",
            "\n",
            "You have full control over how much you’re spending.\n",
            "\n",
            "You can save up for a project or a business.\n",
            "\n",
            "Flutterwave’s global payments solutions will make it easier for Africans to participate in the digital economy so you can make and accept payments for whatever you want, in whatever currency or payment method you want, across the globe.\n",
            "\n",
            "Build your business with flutterwave today.\n",
            "\n",
            "Visit https://flutterwave.com/ng/ to learn more about integrating flutterwave API\n",
            "\n",
            "Visit https://ravepay.co/ to start receiving payments from all over the world\n",
            "\n",
            "Visit https://barter.flutterwave.com/login to get started with Barter\n",
            "\n",
            "You can also download the GetBarter app on google play store or App store.\n",
            "n\n",
            "Article's Summary:\n",
            "Flutterwave is a payments API that makes it easier for banks and businesses to process payments across Africa.\n",
            "Flutterwave has made it easier for Africans to build global businesses that can make and accept any payment, anywhere from across Africa and around the world.\n",
            "You can accept payments, make payouts and manage your business funds from one integrated platform that helps you connect globally.\n",
            "It is the easiest way to make and accept payments from customers in any country.\n",
            "These virtual cards are supported by all banks and financial institutions in the US, Kenya, Ghana and Nigeria; and fund transfer is immediate.\n",
            "n\n"
          ],
          "name": "stdout"
        }
      ]
    },
    {
      "cell_type": "code",
      "metadata": {
        "id": "x87faWSsTVPf",
        "colab_type": "code",
        "colab": {}
      },
      "source": [
        "\n",
        "  "
      ],
      "execution_count": 0,
      "outputs": []
    },
    {
      "cell_type": "code",
      "metadata": {
        "id": "MXZDwr8YTpQ3",
        "colab_type": "code",
        "colab": {}
      },
      "source": [
        "#To extract keywords \n",
        "''' keyword function to return article keywords '''\n",
        "def keyword():\n",
        "  print(\"keyword in article\")\n",
        "  print(ARTICLE.keywords)\n",
        "  \n",
        "\n"
      ],
      "execution_count": 0,
      "outputs": []
    },
    {
      "cell_type": "code",
      "metadata": {
        "id": "MBMGBX8aK-s0",
        "colab_type": "code",
        "outputId": "c39067b6-a1ee-4db4-eaea-75ef5761862f",
        "colab": {
          "base_uri": "https://localhost:8080/",
          "height": 71
        }
      },
      "source": [
        "keyword()"
      ],
      "execution_count": 0,
      "outputs": [
        {
          "output_type": "stream",
          "text": [
            "keyword in article\n",
            "['virtual', 'business', 'gateway', 'online', 'payments', 'customers', 'accept', 'africas', 'pay', 'largest', 'cards', 'businesses', 'payment', 'flutterwave']\n"
          ],
          "name": "stdout"
        }
      ]
    },
    {
      "cell_type": "code",
      "metadata": {
        "id": "JwAkeOFmLCIB",
        "colab_type": "code",
        "colab": {}
      },
      "source": [
        ""
      ],
      "execution_count": 0,
      "outputs": []
    }
  ]
}